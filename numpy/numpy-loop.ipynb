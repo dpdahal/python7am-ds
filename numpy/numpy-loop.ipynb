{
 "cells": [
  {
   "cell_type": "code",
   "execution_count": 9,
   "metadata": {},
   "outputs": [
    {
     "name": "stdout",
     "output_type": "stream",
     "text": [
      "10\n",
      "20\n",
      "30\n",
      "40\n",
      "50\n",
      "60\n",
      "77\n",
      "66\n",
      "55\n",
      "44\n",
      "87\n",
      "98\n",
      "99\n",
      "34\n",
      "544\n"
     ]
    }
   ],
   "source": [
    "import numpy as np\n",
    "\n",
    "# data = np.array([34,56,76,67])\n",
    "\n",
    "# for num in data:\n",
    "#     print(num)\n",
    "\n",
    "# numbers= np.array([[1,2,3],[4,5,6],[7,8,9]])\n",
    "# for num in numbers:\n",
    "#     for x in num:\n",
    "#         print(x)\n",
    "\n",
    "numbers=np.array([[[10,20,30,40,50],[60,77,66,55,44],[87,98,99,34,544]]])\n",
    "for num in np.nditer(numbers):\n",
    "    print(num)\n",
    "# for frow in numbers:\n",
    "#     for srow in frow:\n",
    "#         for col in srow:\n",
    "#             print(col)"
   ]
  },
  {
   "cell_type": "code",
   "execution_count": null,
   "metadata": {},
   "outputs": [],
   "source": []
  }
 ],
 "metadata": {
  "kernelspec": {
   "display_name": "Python 3",
   "language": "python",
   "name": "python3"
  },
  "language_info": {
   "codemirror_mode": {
    "name": "ipython",
    "version": 3
   },
   "file_extension": ".py",
   "mimetype": "text/x-python",
   "name": "python",
   "nbconvert_exporter": "python",
   "pygments_lexer": "ipython3",
   "version": "3.12.3"
  }
 },
 "nbformat": 4,
 "nbformat_minor": 2
}
