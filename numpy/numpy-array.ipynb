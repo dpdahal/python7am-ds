{
 "cells": [
  {
   "cell_type": "code",
   "execution_count": 45,
   "metadata": {},
   "outputs": [
    {
     "data": {
      "text/plain": [
       "array([ 1,  2,  3,  4,  5,  6,  7,  8,  9, 10])"
      ]
     },
     "execution_count": 45,
     "metadata": {},
     "output_type": "execute_result"
    }
   ],
   "source": [
    "import numpy as np\n",
    "\n",
    "# zero dimensional array\n",
    "# data = np.array(560)\n",
    "# data\n",
    "# type(data)\n",
    "# data.ndim\n",
    "\n",
    "# one dimensional array\n",
    "# data = np.array([1, 2, 3, 4, 5])\n",
    "# data.ndim\n",
    "\n",
    "# two dimensional array\n",
    "# numbers=[\n",
    "#     [1, 2, 3],\n",
    "#     [4, 5, 6],\n",
    "#     [7, 8,45]\n",
    "# ]\n",
    "# numbers[1][0]\n",
    "# data = np.array(numbers)\n",
    "# data.ndim\n",
    "# data.shape\n",
    "# data[1][0]\n",
    "# data[1,0]\n",
    "\n",
    "\n",
    "# three dimensional array\n",
    "# numbers=[\n",
    "#     [\n",
    "#         [1, 2, 3],\n",
    "#         [4, 5, 6],\n",
    "#         [7, 8,45]\n",
    "#     ]\n",
    "# ]\n",
    "# data = np.array(numbers)\n",
    "# data[0][1][0]\n",
    "# data.ndim\n",
    "# data.shape\n",
    "\n",
    "# numbers=[12,13,14,15,16]\n",
    "# data = np.array(numbers, ndmin=5)\n",
    "# data\n",
    "\n",
    "# data = np.array([1, 2, 3, 4, 5,78])\n",
    "# data = data.reshape(2,3)\n",
    "# data\n",
    "\n",
    "# data = np.zeros((3,5))\n",
    "# data\n",
    "\n",
    "# data = np.ones((3,5))\n",
    "# data\n",
    "\n",
    "# data = np.array([3,1,2,5,6])\n",
    "# data =np.sort(data)\n",
    "# data\n",
    "\n",
    "# where \n",
    "# x = np.array([3,10,2,5,6])\n",
    "# x = np.where(x>3)\n",
    "# y = np.array([1,2,30,40,50])\n",
    "# data = np.where(x>3,x,y)\n",
    "# data\n",
    "\n",
    "\n",
    "data1=np.array([1,2,3,4,5])\n",
    "data2=np.array([6,7,8,9,10])\n",
    "# data1+data2\n",
    "result = np.concatenate((data1,data2))\n",
    "result"
   ]
  },
  {
   "cell_type": "code",
   "execution_count": null,
   "metadata": {},
   "outputs": [],
   "source": []
  }
 ],
 "metadata": {
  "kernelspec": {
   "display_name": "Python 3",
   "language": "python",
   "name": "python3"
  },
  "language_info": {
   "codemirror_mode": {
    "name": "ipython",
    "version": 3
   },
   "file_extension": ".py",
   "mimetype": "text/x-python",
   "name": "python",
   "nbconvert_exporter": "python",
   "pygments_lexer": "ipython3",
   "version": "3.12.3"
  }
 },
 "nbformat": 4,
 "nbformat_minor": 2
}
